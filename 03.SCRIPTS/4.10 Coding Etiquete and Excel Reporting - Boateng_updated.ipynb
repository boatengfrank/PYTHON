{
 "cells": [
  {
   "cell_type": "markdown",
   "id": "0f6ec008",
   "metadata": {},
   "source": [
    "## CODING ETIQUETE\n",
    "1. Importing libraries and Define Path & Import dataframes\n",
    "2. Looking out for Personally Identifiable Information (PII)\n",
    "3. Developing regions \n",
    "4. Creating an exclusion flag \n",
    "5. Creating a profiling of the variables\n",
    "6. Creating the Visualizations\n",
    "7. Creating customer-level profiles\n",
    "8. Aggregate max, mean, min variables on a customer-profile leves \n",
    "9. Comparing customer profiles with regions and departments"
   ]
  },
  {
   "cell_type": "markdown",
   "id": "a3195f36",
   "metadata": {},
   "source": [
    "## IMPORTING LIBRARIES"
   ]
  },
  {
   "cell_type": "code",
   "execution_count": 3,
   "id": "e919f814",
   "metadata": {},
   "outputs": [],
   "source": [
    "#Import libraries\n",
    "import pandas as pd\n",
    "import numpy as np\n",
    "import os\n",
    "import matplotlib.pyplot as plt\n",
    "import seaborn as sns\n",
    "import scipy"
   ]
  },
  {
   "cell_type": "code",
   "execution_count": 4,
   "id": "a69f898d",
   "metadata": {},
   "outputs": [],
   "source": [
    "#importing the newly merged updated data set\n",
    "path = r'/Users/frankamoboateng/Downloads/18.07.23 instacart Basket Analysis'"
   ]
  },
  {
   "cell_type": "code",
   "execution_count": 5,
   "id": "dc7d8fb7",
   "metadata": {},
   "outputs": [],
   "source": [
    "#importing the updated merged data\n",
    "df_all = pd.read_pickle(os.path.join(path,'02. DATA','PREPARED DATA','orders_products_all_aggregated.pkl'))"
   ]
  },
  {
   "cell_type": "markdown",
   "id": "7a76132c",
   "metadata": {},
   "source": [
    "# LOOKING OUT FOR PII INFORMATION"
   ]
  },
  {
   "cell_type": "code",
   "execution_count": 6,
   "id": "c92adf21",
   "metadata": {},
   "outputs": [
    {
     "data": {
      "text/html": [
       "<div>\n",
       "<style scoped>\n",
       "    .dataframe tbody tr th:only-of-type {\n",
       "        vertical-align: middle;\n",
       "    }\n",
       "\n",
       "    .dataframe tbody tr th {\n",
       "        vertical-align: top;\n",
       "    }\n",
       "\n",
       "    .dataframe thead th {\n",
       "        text-align: right;\n",
       "    }\n",
       "</style>\n",
       "<table border=\"1\" class=\"dataframe\">\n",
       "  <thead>\n",
       "    <tr style=\"text-align: right;\">\n",
       "      <th></th>\n",
       "      <th>user_id</th>\n",
       "      <th>First Name</th>\n",
       "      <th>Surname</th>\n",
       "      <th>gender</th>\n",
       "      <th>State</th>\n",
       "      <th>Age</th>\n",
       "      <th>date_joined</th>\n",
       "      <th>number_of_dependants</th>\n",
       "      <th>marital_status</th>\n",
       "      <th>income</th>\n",
       "      <th>...</th>\n",
       "      <th>add_to_cart_order</th>\n",
       "      <th>reordered</th>\n",
       "      <th>busiest_day</th>\n",
       "      <th>busiest_period_of_day</th>\n",
       "      <th>max_order</th>\n",
       "      <th>loyalty_flag</th>\n",
       "      <th>mean_price</th>\n",
       "      <th>spending_flag</th>\n",
       "      <th>median_days</th>\n",
       "      <th>frequency_flag</th>\n",
       "    </tr>\n",
       "  </thead>\n",
       "  <tbody>\n",
       "    <tr>\n",
       "      <th>0</th>\n",
       "      <td>26711</td>\n",
       "      <td>Deborah</td>\n",
       "      <td>Esquivel</td>\n",
       "      <td>Female</td>\n",
       "      <td>Missouri</td>\n",
       "      <td>48</td>\n",
       "      <td>1/1/2017</td>\n",
       "      <td>3</td>\n",
       "      <td>married</td>\n",
       "      <td>165665</td>\n",
       "      <td>...</td>\n",
       "      <td>2</td>\n",
       "      <td>0</td>\n",
       "      <td>Busiest days</td>\n",
       "      <td>Most orders</td>\n",
       "      <td>8</td>\n",
       "      <td>New customer</td>\n",
       "      <td>7.988889</td>\n",
       "      <td>Low spender</td>\n",
       "      <td>19.0</td>\n",
       "      <td>Regular customer</td>\n",
       "    </tr>\n",
       "    <tr>\n",
       "      <th>1</th>\n",
       "      <td>26711</td>\n",
       "      <td>Deborah</td>\n",
       "      <td>Esquivel</td>\n",
       "      <td>Female</td>\n",
       "      <td>Missouri</td>\n",
       "      <td>48</td>\n",
       "      <td>1/1/2017</td>\n",
       "      <td>3</td>\n",
       "      <td>married</td>\n",
       "      <td>165665</td>\n",
       "      <td>...</td>\n",
       "      <td>1</td>\n",
       "      <td>1</td>\n",
       "      <td>Regularly busy</td>\n",
       "      <td>Most orders</td>\n",
       "      <td>8</td>\n",
       "      <td>New customer</td>\n",
       "      <td>7.988889</td>\n",
       "      <td>Low spender</td>\n",
       "      <td>19.0</td>\n",
       "      <td>Regular customer</td>\n",
       "    </tr>\n",
       "    <tr>\n",
       "      <th>2</th>\n",
       "      <td>26711</td>\n",
       "      <td>Deborah</td>\n",
       "      <td>Esquivel</td>\n",
       "      <td>Female</td>\n",
       "      <td>Missouri</td>\n",
       "      <td>48</td>\n",
       "      <td>1/1/2017</td>\n",
       "      <td>3</td>\n",
       "      <td>married</td>\n",
       "      <td>165665</td>\n",
       "      <td>...</td>\n",
       "      <td>2</td>\n",
       "      <td>1</td>\n",
       "      <td>Busiest days</td>\n",
       "      <td>Most orders</td>\n",
       "      <td>8</td>\n",
       "      <td>New customer</td>\n",
       "      <td>7.988889</td>\n",
       "      <td>Low spender</td>\n",
       "      <td>19.0</td>\n",
       "      <td>Regular customer</td>\n",
       "    </tr>\n",
       "    <tr>\n",
       "      <th>3</th>\n",
       "      <td>26711</td>\n",
       "      <td>Deborah</td>\n",
       "      <td>Esquivel</td>\n",
       "      <td>Female</td>\n",
       "      <td>Missouri</td>\n",
       "      <td>48</td>\n",
       "      <td>1/1/2017</td>\n",
       "      <td>3</td>\n",
       "      <td>married</td>\n",
       "      <td>165665</td>\n",
       "      <td>...</td>\n",
       "      <td>1</td>\n",
       "      <td>0</td>\n",
       "      <td>Regularly busy</td>\n",
       "      <td>Most orders</td>\n",
       "      <td>8</td>\n",
       "      <td>New customer</td>\n",
       "      <td>7.988889</td>\n",
       "      <td>Low spender</td>\n",
       "      <td>19.0</td>\n",
       "      <td>Regular customer</td>\n",
       "    </tr>\n",
       "    <tr>\n",
       "      <th>4</th>\n",
       "      <td>26711</td>\n",
       "      <td>Deborah</td>\n",
       "      <td>Esquivel</td>\n",
       "      <td>Female</td>\n",
       "      <td>Missouri</td>\n",
       "      <td>48</td>\n",
       "      <td>1/1/2017</td>\n",
       "      <td>3</td>\n",
       "      <td>married</td>\n",
       "      <td>165665</td>\n",
       "      <td>...</td>\n",
       "      <td>2</td>\n",
       "      <td>1</td>\n",
       "      <td>Slowest days</td>\n",
       "      <td>Most orders</td>\n",
       "      <td>8</td>\n",
       "      <td>New customer</td>\n",
       "      <td>7.988889</td>\n",
       "      <td>Low spender</td>\n",
       "      <td>19.0</td>\n",
       "      <td>Regular customer</td>\n",
       "    </tr>\n",
       "  </tbody>\n",
       "</table>\n",
       "<p>5 rows × 35 columns</p>\n",
       "</div>"
      ],
      "text/plain": [
       "  user_id First Name   Surname  gender     State  Age date_joined  \\\n",
       "0   26711    Deborah  Esquivel  Female  Missouri   48    1/1/2017   \n",
       "1   26711    Deborah  Esquivel  Female  Missouri   48    1/1/2017   \n",
       "2   26711    Deborah  Esquivel  Female  Missouri   48    1/1/2017   \n",
       "3   26711    Deborah  Esquivel  Female  Missouri   48    1/1/2017   \n",
       "4   26711    Deborah  Esquivel  Female  Missouri   48    1/1/2017   \n",
       "\n",
       "   number_of_dependants marital_status  income  ...  add_to_cart_order  \\\n",
       "0                     3        married  165665  ...                  2   \n",
       "1                     3        married  165665  ...                  1   \n",
       "2                     3        married  165665  ...                  2   \n",
       "3                     3        married  165665  ...                  1   \n",
       "4                     3        married  165665  ...                  2   \n",
       "\n",
       "   reordered     busiest_day busiest_period_of_day  max_order  loyalty_flag  \\\n",
       "0          0    Busiest days           Most orders          8  New customer   \n",
       "1          1  Regularly busy           Most orders          8  New customer   \n",
       "2          1    Busiest days           Most orders          8  New customer   \n",
       "3          0  Regularly busy           Most orders          8  New customer   \n",
       "4          1    Slowest days           Most orders          8  New customer   \n",
       "\n",
       "   mean_price  spending_flag  median_days    frequency_flag  \n",
       "0    7.988889    Low spender         19.0  Regular customer  \n",
       "1    7.988889    Low spender         19.0  Regular customer  \n",
       "2    7.988889    Low spender         19.0  Regular customer  \n",
       "3    7.988889    Low spender         19.0  Regular customer  \n",
       "4    7.988889    Low spender         19.0  Regular customer  \n",
       "\n",
       "[5 rows x 35 columns]"
      ]
     },
     "execution_count": 6,
     "metadata": {},
     "output_type": "execute_result"
    }
   ],
   "source": [
    "#Display all columns to look for PII\n",
    "df_all.head()"
   ]
  },
  {
   "cell_type": "markdown",
   "id": "2921d451",
   "metadata": {},
   "source": [
    "ONLY NAMES CAN BE RELEVANT TO THIS CONSIDERATION BUT EVEN THAT ARE NOT UNIQUE. NEVERTHEESS, SENIOR ANALYSTS WOULD BE INFORMED AND NECESSARY STEPS TAKEN, SHOULD THEY BE DROPPED"
   ]
  },
  {
   "cell_type": "code",
   "execution_count": 7,
   "id": "323b5577",
   "metadata": {},
   "outputs": [],
   "source": [
    "#Drop the first_name column\n",
    "df_all = df_all.drop(columns = ['First Name'])"
   ]
  },
  {
   "cell_type": "code",
   "execution_count": 8,
   "id": "b0a8c813",
   "metadata": {},
   "outputs": [],
   "source": [
    "#Drop the last_name column\n",
    "df_all = df_all.drop(columns = ['Surname'])"
   ]
  },
  {
   "cell_type": "code",
   "execution_count": 9,
   "id": "43a61043",
   "metadata": {},
   "outputs": [
    {
     "data": {
      "text/html": [
       "<div>\n",
       "<style scoped>\n",
       "    .dataframe tbody tr th:only-of-type {\n",
       "        vertical-align: middle;\n",
       "    }\n",
       "\n",
       "    .dataframe tbody tr th {\n",
       "        vertical-align: top;\n",
       "    }\n",
       "\n",
       "    .dataframe thead th {\n",
       "        text-align: right;\n",
       "    }\n",
       "</style>\n",
       "<table border=\"1\" class=\"dataframe\">\n",
       "  <thead>\n",
       "    <tr style=\"text-align: right;\">\n",
       "      <th></th>\n",
       "      <th>user_id</th>\n",
       "      <th>gender</th>\n",
       "      <th>State</th>\n",
       "      <th>Age</th>\n",
       "      <th>date_joined</th>\n",
       "      <th>number_of_dependants</th>\n",
       "      <th>marital_status</th>\n",
       "      <th>income</th>\n",
       "      <th>Unnamed: 0</th>\n",
       "      <th>Unnamed: 0_x</th>\n",
       "      <th>...</th>\n",
       "      <th>add_to_cart_order</th>\n",
       "      <th>reordered</th>\n",
       "      <th>busiest_day</th>\n",
       "      <th>busiest_period_of_day</th>\n",
       "      <th>max_order</th>\n",
       "      <th>loyalty_flag</th>\n",
       "      <th>mean_price</th>\n",
       "      <th>spending_flag</th>\n",
       "      <th>median_days</th>\n",
       "      <th>frequency_flag</th>\n",
       "    </tr>\n",
       "  </thead>\n",
       "  <tbody>\n",
       "    <tr>\n",
       "      <th>0</th>\n",
       "      <td>26711</td>\n",
       "      <td>Female</td>\n",
       "      <td>Missouri</td>\n",
       "      <td>48</td>\n",
       "      <td>1/1/2017</td>\n",
       "      <td>3</td>\n",
       "      <td>married</td>\n",
       "      <td>165665</td>\n",
       "      <td>108040</td>\n",
       "      <td>195</td>\n",
       "      <td>...</td>\n",
       "      <td>2</td>\n",
       "      <td>0</td>\n",
       "      <td>Busiest days</td>\n",
       "      <td>Most orders</td>\n",
       "      <td>8</td>\n",
       "      <td>New customer</td>\n",
       "      <td>7.988889</td>\n",
       "      <td>Low spender</td>\n",
       "      <td>19.0</td>\n",
       "      <td>Regular customer</td>\n",
       "    </tr>\n",
       "    <tr>\n",
       "      <th>1</th>\n",
       "      <td>26711</td>\n",
       "      <td>Female</td>\n",
       "      <td>Missouri</td>\n",
       "      <td>48</td>\n",
       "      <td>1/1/2017</td>\n",
       "      <td>3</td>\n",
       "      <td>married</td>\n",
       "      <td>165665</td>\n",
       "      <td>108041</td>\n",
       "      <td>195</td>\n",
       "      <td>...</td>\n",
       "      <td>1</td>\n",
       "      <td>1</td>\n",
       "      <td>Regularly busy</td>\n",
       "      <td>Most orders</td>\n",
       "      <td>8</td>\n",
       "      <td>New customer</td>\n",
       "      <td>7.988889</td>\n",
       "      <td>Low spender</td>\n",
       "      <td>19.0</td>\n",
       "      <td>Regular customer</td>\n",
       "    </tr>\n",
       "    <tr>\n",
       "      <th>2</th>\n",
       "      <td>26711</td>\n",
       "      <td>Female</td>\n",
       "      <td>Missouri</td>\n",
       "      <td>48</td>\n",
       "      <td>1/1/2017</td>\n",
       "      <td>3</td>\n",
       "      <td>married</td>\n",
       "      <td>165665</td>\n",
       "      <td>108042</td>\n",
       "      <td>195</td>\n",
       "      <td>...</td>\n",
       "      <td>2</td>\n",
       "      <td>1</td>\n",
       "      <td>Busiest days</td>\n",
       "      <td>Most orders</td>\n",
       "      <td>8</td>\n",
       "      <td>New customer</td>\n",
       "      <td>7.988889</td>\n",
       "      <td>Low spender</td>\n",
       "      <td>19.0</td>\n",
       "      <td>Regular customer</td>\n",
       "    </tr>\n",
       "    <tr>\n",
       "      <th>3</th>\n",
       "      <td>26711</td>\n",
       "      <td>Female</td>\n",
       "      <td>Missouri</td>\n",
       "      <td>48</td>\n",
       "      <td>1/1/2017</td>\n",
       "      <td>3</td>\n",
       "      <td>married</td>\n",
       "      <td>165665</td>\n",
       "      <td>3627911</td>\n",
       "      <td>6184</td>\n",
       "      <td>...</td>\n",
       "      <td>1</td>\n",
       "      <td>0</td>\n",
       "      <td>Regularly busy</td>\n",
       "      <td>Most orders</td>\n",
       "      <td>8</td>\n",
       "      <td>New customer</td>\n",
       "      <td>7.988889</td>\n",
       "      <td>Low spender</td>\n",
       "      <td>19.0</td>\n",
       "      <td>Regular customer</td>\n",
       "    </tr>\n",
       "    <tr>\n",
       "      <th>4</th>\n",
       "      <td>26711</td>\n",
       "      <td>Female</td>\n",
       "      <td>Missouri</td>\n",
       "      <td>48</td>\n",
       "      <td>1/1/2017</td>\n",
       "      <td>3</td>\n",
       "      <td>married</td>\n",
       "      <td>165665</td>\n",
       "      <td>3627912</td>\n",
       "      <td>6184</td>\n",
       "      <td>...</td>\n",
       "      <td>2</td>\n",
       "      <td>1</td>\n",
       "      <td>Slowest days</td>\n",
       "      <td>Most orders</td>\n",
       "      <td>8</td>\n",
       "      <td>New customer</td>\n",
       "      <td>7.988889</td>\n",
       "      <td>Low spender</td>\n",
       "      <td>19.0</td>\n",
       "      <td>Regular customer</td>\n",
       "    </tr>\n",
       "  </tbody>\n",
       "</table>\n",
       "<p>5 rows × 33 columns</p>\n",
       "</div>"
      ],
      "text/plain": [
       "  user_id  gender     State  Age date_joined  number_of_dependants  \\\n",
       "0   26711  Female  Missouri   48    1/1/2017                     3   \n",
       "1   26711  Female  Missouri   48    1/1/2017                     3   \n",
       "2   26711  Female  Missouri   48    1/1/2017                     3   \n",
       "3   26711  Female  Missouri   48    1/1/2017                     3   \n",
       "4   26711  Female  Missouri   48    1/1/2017                     3   \n",
       "\n",
       "  marital_status  income  Unnamed: 0  Unnamed: 0_x  ...  add_to_cart_order  \\\n",
       "0        married  165665      108040           195  ...                  2   \n",
       "1        married  165665      108041           195  ...                  1   \n",
       "2        married  165665      108042           195  ...                  2   \n",
       "3        married  165665     3627911          6184  ...                  1   \n",
       "4        married  165665     3627912          6184  ...                  2   \n",
       "\n",
       "  reordered     busiest_day  busiest_period_of_day  max_order  loyalty_flag  \\\n",
       "0         0    Busiest days            Most orders          8  New customer   \n",
       "1         1  Regularly busy            Most orders          8  New customer   \n",
       "2         1    Busiest days            Most orders          8  New customer   \n",
       "3         0  Regularly busy            Most orders          8  New customer   \n",
       "4         1    Slowest days            Most orders          8  New customer   \n",
       "\n",
       "   mean_price  spending_flag  median_days    frequency_flag  \n",
       "0    7.988889    Low spender         19.0  Regular customer  \n",
       "1    7.988889    Low spender         19.0  Regular customer  \n",
       "2    7.988889    Low spender         19.0  Regular customer  \n",
       "3    7.988889    Low spender         19.0  Regular customer  \n",
       "4    7.988889    Low spender         19.0  Regular customer  \n",
       "\n",
       "[5 rows x 33 columns]"
      ]
     },
     "execution_count": 9,
     "metadata": {},
     "output_type": "execute_result"
    }
   ],
   "source": [
    "#Check the output\n",
    "df_all.head()"
   ]
  },
  {
   "cell_type": "markdown",
   "id": "824ae002",
   "metadata": {},
   "source": [
    "## DEVELOPING THE REGIONS"
   ]
  },
  {
   "cell_type": "code",
   "execution_count": 10,
   "id": "a9eb856c",
   "metadata": {},
   "outputs": [],
   "source": [
    "#Regions created to categorize the states\n",
    "Notheast = ['Maine', 'New Hampshire', 'Vermont', 'Massachusetts', 'Rhode Island', 'Connecticut', 'New York', 'Pennsylvania', 'New Jersey']\n",
    "Midwest = ['Wisconsin', 'Michigan', 'Illinois', 'Indiana', 'Ohio', 'North Dakota', 'South Dakota', 'Nebraska', 'Kansas', 'Minnesota', 'Iowa', 'Missouri']\n",
    "South = ['Delaware', 'Maryland', 'District of Columbia', 'Virginia', 'West Virginia', 'North Carolina', 'South Carolina', 'Georgia', 'Florida', 'Kentucky', 'Tennessee', 'Mississippi', 'Alabama', 'Oklahoma', 'Texas', 'Arkansas', 'Louisiana']\n",
    "West = ['Idaho', 'Montana', 'Wyoming', 'Nevada', 'Utah', 'Colorado', 'Arizona', 'New Mexico', 'Alaska', 'Washington', 'Oregon', 'California', 'Hawaii']"
   ]
  },
  {
   "cell_type": "code",
   "execution_count": 11,
   "id": "23831b1d",
   "metadata": {},
   "outputs": [],
   "source": [
    "#Designing a flag system to identify the region of each purchase.\n",
    "df_all.loc[df_all['State'].isin(Notheast), 'Region'] = 'Northeast'\n",
    "df_all.loc[df_all['State'].isin(Midwest), 'Region'] = 'Midwest'\n",
    "df_all.loc[df_all['State'].isin(South), 'Region'] = 'South'\n",
    "df_all.loc[df_all['State'].isin(West), 'Region'] = 'West'"
   ]
  },
  {
   "cell_type": "code",
   "execution_count": 12,
   "id": "316cfd9b",
   "metadata": {},
   "outputs": [
    {
     "data": {
      "text/plain": [
       "South        10208094\n",
       "West          7838932\n",
       "Midwest       7183053\n",
       "Northeast     5427268\n",
       "Name: Region, dtype: int64"
      ]
     },
     "execution_count": 12,
     "metadata": {},
     "output_type": "execute_result"
    }
   ],
   "source": [
    "#checking the output\n",
    "df_all['Region'].value_counts(dropna = False)"
   ]
  },
  {
   "cell_type": "code",
   "execution_count": 13,
   "id": "859d541b",
   "metadata": {},
   "outputs": [
    {
     "data": {
      "text/plain": [
       "(30657347, 34)"
      ]
     },
     "execution_count": 13,
     "metadata": {},
     "output_type": "execute_result"
    }
   ],
   "source": [
    "df_all.shape"
   ]
  },
  {
   "cell_type": "markdown",
   "id": "7327749b",
   "metadata": {},
   "source": [
    "## All regions summed up equals to the total rows of the data set"
   ]
  },
  {
   "cell_type": "code",
   "execution_count": 14,
   "id": "04dad0c7",
   "metadata": {},
   "outputs": [],
   "source": [
    "#Create a crosstab between regions and spending flag\n",
    "crosstab = pd.crosstab(df_all['Region'], df_all['spending_flag'], dropna=False)"
   ]
  },
  {
   "cell_type": "code",
   "execution_count": 15,
   "id": "48efc966",
   "metadata": {},
   "outputs": [
    {
     "data": {
      "text/html": [
       "<div>\n",
       "<style scoped>\n",
       "    .dataframe tbody tr th:only-of-type {\n",
       "        vertical-align: middle;\n",
       "    }\n",
       "\n",
       "    .dataframe tbody tr th {\n",
       "        vertical-align: top;\n",
       "    }\n",
       "\n",
       "    .dataframe thead th {\n",
       "        text-align: right;\n",
       "    }\n",
       "</style>\n",
       "<table border=\"1\" class=\"dataframe\">\n",
       "  <thead>\n",
       "    <tr style=\"text-align: right;\">\n",
       "      <th>spending_flag</th>\n",
       "      <th>High spender</th>\n",
       "      <th>Low spender</th>\n",
       "    </tr>\n",
       "    <tr>\n",
       "      <th>Region</th>\n",
       "      <th></th>\n",
       "      <th></th>\n",
       "    </tr>\n",
       "  </thead>\n",
       "  <tbody>\n",
       "    <tr>\n",
       "      <th>Midwest</th>\n",
       "      <td>149962</td>\n",
       "      <td>7033091</td>\n",
       "    </tr>\n",
       "    <tr>\n",
       "      <th>Northeast</th>\n",
       "      <td>101535</td>\n",
       "      <td>5325733</td>\n",
       "    </tr>\n",
       "    <tr>\n",
       "      <th>South</th>\n",
       "      <td>197010</td>\n",
       "      <td>10011084</td>\n",
       "    </tr>\n",
       "    <tr>\n",
       "      <th>West</th>\n",
       "      <td>148255</td>\n",
       "      <td>7690677</td>\n",
       "    </tr>\n",
       "  </tbody>\n",
       "</table>\n",
       "</div>"
      ],
      "text/plain": [
       "spending_flag  High spender  Low spender\n",
       "Region                                  \n",
       "Midwest              149962      7033091\n",
       "Northeast            101535      5325733\n",
       "South                197010     10011084\n",
       "West                 148255      7690677"
      ]
     },
     "execution_count": 15,
     "metadata": {},
     "output_type": "execute_result"
    }
   ],
   "source": [
    "crosstab"
   ]
  },
  {
   "cell_type": "code",
   "execution_count": 16,
   "id": "7aa7bb14",
   "metadata": {},
   "outputs": [],
   "source": [
    "#for efficiency\n",
    "df_all.to_pickle(os.path.join(path,'02. DATA','PREPARED DATA','df_all_1.pkl'))"
   ]
  },
  {
   "cell_type": "code",
   "execution_count": 17,
   "id": "b279a846",
   "metadata": {},
   "outputs": [],
   "source": [
    "#importing back\n",
    "df_all_1 = pd.read_pickle(os.path.join(path,'02. DATA','PREPARED DATA','df_all_1.pkl'))"
   ]
  },
  {
   "cell_type": "markdown",
   "id": "c3ff752f",
   "metadata": {},
   "source": [
    "## CREATING AN EXCLUSION FLAG"
   ]
  },
  {
   "cell_type": "markdown",
   "id": "b49bb91c",
   "metadata": {},
   "source": [
    "## THIS WOULD BE DONE FOR CUSTOMERS WHO DONT GENERATE INCOME AND NOT MUCH RELEVANT TO INSTACART"
   ]
  },
  {
   "cell_type": "code",
   "execution_count": 18,
   "id": "301d380e",
   "metadata": {},
   "outputs": [],
   "source": [
    "#Create an exclusion flag for low-activity customers based on max_order column\n",
    "df_all_1.loc[df_all_1['max_order'] <= 5, 'activity_loc'] = 'low activity customer'"
   ]
  },
  {
   "cell_type": "code",
   "execution_count": 19,
   "id": "3963e526",
   "metadata": {},
   "outputs": [],
   "source": [
    "#Utilize the exclusion flag to identify the high-activity customers\n",
    "df_all_1.loc[df_all_1['max_order'] >5, 'activity_loc'] = 'high activity customer'"
   ]
  },
  {
   "cell_type": "code",
   "execution_count": 20,
   "id": "5436cfc2",
   "metadata": {},
   "outputs": [
    {
     "data": {
      "text/plain": [
       "high activity customer    28547421\n",
       "low activity customer      2109926\n",
       "Name: activity_loc, dtype: int64"
      ]
     },
     "execution_count": 20,
     "metadata": {},
     "output_type": "execute_result"
    }
   ],
   "source": [
    "#Review output\n",
    "df_all_1['activity_loc'].value_counts(dropna=False)"
   ]
  },
  {
   "cell_type": "code",
   "execution_count": 21,
   "id": "58b0cf8f",
   "metadata": {},
   "outputs": [],
   "source": [
    "#Create dataframe of only low activity customers\n",
    "df_low_activity=df_all_1[df_all_1['activity_loc'] == 'low activity customer']"
   ]
  },
  {
   "cell_type": "code",
   "execution_count": 22,
   "id": "0805fb1a",
   "metadata": {},
   "outputs": [
    {
     "data": {
      "text/plain": [
       "(2109926, 35)"
      ]
     },
     "execution_count": 22,
     "metadata": {},
     "output_type": "execute_result"
    }
   ],
   "source": [
    "#Validate the created df\n",
    "df_low_activity.shape"
   ]
  },
  {
   "cell_type": "code",
   "execution_count": 23,
   "id": "df15fbb1",
   "metadata": {},
   "outputs": [
    {
     "data": {
      "text/plain": [
       "5"
      ]
     },
     "execution_count": 23,
     "metadata": {},
     "output_type": "execute_result"
    }
   ],
   "source": [
    "#Validating the max order columns \n",
    "df_low_activity['max_order'].max()"
   ]
  },
  {
   "cell_type": "code",
   "execution_count": 24,
   "id": "d36f136a",
   "metadata": {},
   "outputs": [],
   "source": [
    "#Exporting low activity dataframe\n",
    "df_low_activity.to_pickle(os.path.join(path,'02. DATA','PREPARED DATA','low_activity_customers.pkl'))"
   ]
  },
  {
   "cell_type": "code",
   "execution_count": 25,
   "id": "732e07ad",
   "metadata": {},
   "outputs": [],
   "source": [
    "#Exclude low activity customers from dataframe\n",
    "df_all_2 = df_all_1[df_all_1['activity_loc'] == 'high activity customer']"
   ]
  },
  {
   "cell_type": "code",
   "execution_count": 26,
   "id": "e113dc30",
   "metadata": {},
   "outputs": [
    {
     "data": {
      "text/plain": [
       "(28547421, 35)"
      ]
     },
     "execution_count": 26,
     "metadata": {},
     "output_type": "execute_result"
    }
   ],
   "source": [
    "#Validate the created df (should have 30171424 rows)\n",
    "df_all_2.shape"
   ]
  },
  {
   "cell_type": "code",
   "execution_count": 27,
   "id": "7abd310f",
   "metadata": {},
   "outputs": [
    {
     "data": {
      "text/plain": [
       "6"
      ]
     },
     "execution_count": 27,
     "metadata": {},
     "output_type": "execute_result"
    }
   ],
   "source": [
    "#Validate the min order in max_order column is 6\n",
    "df_all_2['max_order'].min()"
   ]
  },
  {
   "cell_type": "markdown",
   "id": "276fe93c",
   "metadata": {},
   "source": [
    "## Creating profiling variable; include age, income, department_id, dependants"
   ]
  },
  {
   "cell_type": "code",
   "execution_count": null,
   "id": "82576fc3",
   "metadata": {},
   "outputs": [],
   "source": [
    "#importing back\n",
    "df_all_2 = pd.read_pickle(os.path.join(path,'02. DATA','PREPARED DATA','df_all_2.pkl'))"
   ]
  },
  {
   "cell_type": "code",
   "execution_count": null,
   "id": "bb846497",
   "metadata": {},
   "outputs": [],
   "source": []
  },
  {
   "cell_type": "code",
   "execution_count": null,
   "id": "396f8112",
   "metadata": {},
   "outputs": [],
   "source": []
  },
  {
   "cell_type": "code",
   "execution_count": null,
   "id": "7897f0d6",
   "metadata": {},
   "outputs": [],
   "source": []
  },
  {
   "cell_type": "code",
   "execution_count": null,
   "id": "08dad125",
   "metadata": {},
   "outputs": [],
   "source": []
  },
  {
   "cell_type": "code",
   "execution_count": null,
   "id": "5cb159c2",
   "metadata": {},
   "outputs": [],
   "source": []
  },
  {
   "cell_type": "code",
   "execution_count": null,
   "id": "c23469d1",
   "metadata": {},
   "outputs": [],
   "source": []
  },
  {
   "cell_type": "code",
   "execution_count": null,
   "id": "3703bf16",
   "metadata": {},
   "outputs": [],
   "source": []
  },
  {
   "cell_type": "code",
   "execution_count": null,
   "id": "a58e2c1e",
   "metadata": {},
   "outputs": [],
   "source": []
  },
  {
   "cell_type": "code",
   "execution_count": null,
   "id": "60df9868",
   "metadata": {},
   "outputs": [],
   "source": []
  },
  {
   "cell_type": "code",
   "execution_count": null,
   "id": "a81019dd",
   "metadata": {},
   "outputs": [],
   "source": []
  },
  {
   "cell_type": "code",
   "execution_count": null,
   "id": "13d3e1d3",
   "metadata": {},
   "outputs": [],
   "source": []
  },
  {
   "cell_type": "code",
   "execution_count": null,
   "id": "ab745f33",
   "metadata": {},
   "outputs": [],
   "source": []
  },
  {
   "cell_type": "code",
   "execution_count": null,
   "id": "314002aa",
   "metadata": {},
   "outputs": [],
   "source": []
  },
  {
   "cell_type": "code",
   "execution_count": null,
   "id": "88943694",
   "metadata": {},
   "outputs": [],
   "source": []
  },
  {
   "cell_type": "code",
   "execution_count": null,
   "id": "553f342e",
   "metadata": {},
   "outputs": [],
   "source": []
  },
  {
   "cell_type": "code",
   "execution_count": null,
   "id": "74e73b2e",
   "metadata": {},
   "outputs": [],
   "source": []
  },
  {
   "cell_type": "code",
   "execution_count": null,
   "id": "297a064c",
   "metadata": {},
   "outputs": [],
   "source": []
  }
 ],
 "metadata": {
  "kernelspec": {
   "display_name": "Python 3 (ipykernel)",
   "language": "python",
   "name": "python3"
  },
  "language_info": {
   "codemirror_mode": {
    "name": "ipython",
    "version": 3
   },
   "file_extension": ".py",
   "mimetype": "text/x-python",
   "name": "python",
   "nbconvert_exporter": "python",
   "pygments_lexer": "ipython3",
   "version": "3.11.3"
  }
 },
 "nbformat": 4,
 "nbformat_minor": 5
}
