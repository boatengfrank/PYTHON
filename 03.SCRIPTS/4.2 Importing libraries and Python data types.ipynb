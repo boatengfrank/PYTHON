{
 "cells": [
  {
   "cell_type": "markdown",
   "id": "6963e932",
   "metadata": {},
   "source": [
    " # 01 importing library"
   ]
  },
  {
   "cell_type": "code",
   "execution_count": 1,
   "id": "800eb615",
   "metadata": {},
   "outputs": [],
   "source": [
    "# Import libraries\n",
    "import pandas as pd\n",
    "import numpy as np\n",
    "import os"
   ]
  },
  {
   "cell_type": "code",
   "execution_count": null,
   "id": "35c9af04",
   "metadata": {},
   "outputs": [],
   "source": [
    "x = 2\n"
   ]
  },
  {
   "cell_type": "code",
   "execution_count": 29,
   "id": "e6e8014b",
   "metadata": {},
   "outputs": [],
   "source": [
    "y = 5.678"
   ]
  },
  {
   "cell_type": "code",
   "execution_count": 30,
   "id": "2efaca9e",
   "metadata": {},
   "outputs": [
    {
     "data": {
      "text/plain": [
       "float"
      ]
     },
     "execution_count": 30,
     "metadata": {},
     "output_type": "execute_result"
    }
   ],
   "source": [
    "type(y)"
   ]
  },
  {
   "cell_type": "code",
   "execution_count": 31,
   "id": "df387a88",
   "metadata": {},
   "outputs": [
    {
     "data": {
      "text/plain": [
       "5.678"
      ]
     },
     "execution_count": 31,
     "metadata": {},
     "output_type": "execute_result"
    }
   ],
   "source": [
    "y"
   ]
  },
  {
   "cell_type": "code",
   "execution_count": 32,
   "id": "320406c4",
   "metadata": {},
   "outputs": [
    {
     "data": {
      "text/plain": [
       "5.678"
      ]
     },
     "execution_count": 32,
     "metadata": {},
     "output_type": "execute_result"
    }
   ],
   "source": [
    "y"
   ]
  },
  {
   "cell_type": "code",
   "execution_count": 38,
   "id": "69331537",
   "metadata": {},
   "outputs": [
    {
     "data": {
      "text/plain": [
       "5.678"
      ]
     },
     "execution_count": 38,
     "metadata": {},
     "output_type": "execute_result"
    }
   ],
   "source": [
    "y"
   ]
  },
  {
   "cell_type": "code",
   "execution_count": 39,
   "id": "784d4a25",
   "metadata": {},
   "outputs": [],
   "source": [
    "y = 'Ghana'"
   ]
  },
  {
   "cell_type": "code",
   "execution_count": 40,
   "id": "2f29faaf",
   "metadata": {},
   "outputs": [
    {
     "data": {
      "text/plain": [
       "'Ghana'"
      ]
     },
     "execution_count": 40,
     "metadata": {},
     "output_type": "execute_result"
    }
   ],
   "source": [
    "y"
   ]
  },
  {
   "cell_type": "code",
   "execution_count": 41,
   "id": "fb5b4f54",
   "metadata": {},
   "outputs": [
    {
     "data": {
      "text/plain": [
       "str"
      ]
     },
     "execution_count": 41,
     "metadata": {},
     "output_type": "execute_result"
    }
   ],
   "source": [
    "type(y)"
   ]
  },
  {
   "cell_type": "code",
   "execution_count": 42,
   "id": "925b4d59",
   "metadata": {},
   "outputs": [],
   "source": [
    "z ='Brazil'"
   ]
  },
  {
   "cell_type": "code",
   "execution_count": 43,
   "id": "27b7eb0d",
   "metadata": {},
   "outputs": [
    {
     "data": {
      "text/plain": [
       "str"
      ]
     },
     "execution_count": 43,
     "metadata": {},
     "output_type": "execute_result"
    }
   ],
   "source": [
    "type(z)"
   ]
  },
  {
   "cell_type": "code",
   "execution_count": 44,
   "id": "fa79d940",
   "metadata": {},
   "outputs": [
    {
     "data": {
      "text/plain": [
       "'y = Brazil'"
      ]
     },
     "execution_count": 44,
     "metadata": {},
     "output_type": "execute_result"
    }
   ],
   "source": [
    "'y = Brazil'"
   ]
  },
  {
   "cell_type": "code",
   "execution_count": 46,
   "id": "12635d4b",
   "metadata": {},
   "outputs": [
    {
     "data": {
      "text/plain": [
       "bool"
      ]
     },
     "execution_count": 46,
     "metadata": {},
     "output_type": "execute_result"
    }
   ],
   "source": [
    "type (True)"
   ]
  },
  {
   "cell_type": "code",
   "execution_count": 53,
   "id": "825284e9",
   "metadata": {},
   "outputs": [],
   "source": [
    "x = 2"
   ]
  },
  {
   "cell_type": "code",
   "execution_count": 54,
   "id": "0f572ee2",
   "metadata": {},
   "outputs": [
    {
     "name": "stdout",
     "output_type": "stream",
     "text": [
      "2\n"
     ]
    }
   ],
   "source": [
    "print (x)"
   ]
  },
  {
   "cell_type": "code",
   "execution_count": 55,
   "id": "00ddaf66",
   "metadata": {},
   "outputs": [
    {
     "data": {
      "text/plain": [
       "6"
      ]
     },
     "execution_count": 55,
     "metadata": {},
     "output_type": "execute_result"
    }
   ],
   "source": [
    "X+4"
   ]
  },
  {
   "cell_type": "code",
   "execution_count": 57,
   "id": "84121080",
   "metadata": {},
   "outputs": [],
   "source": [
    " y =5.678"
   ]
  },
  {
   "cell_type": "code",
   "execution_count": 58,
   "id": "80e47be2",
   "metadata": {},
   "outputs": [
    {
     "name": "stdout",
     "output_type": "stream",
     "text": [
      "5.678\n"
     ]
    }
   ],
   "source": [
    "print(y)"
   ]
  },
  {
   "cell_type": "code",
   "execution_count": 59,
   "id": "63a3cc76",
   "metadata": {},
   "outputs": [
    {
     "data": {
      "text/plain": [
       "7.678"
      ]
     },
     "execution_count": 59,
     "metadata": {},
     "output_type": "execute_result"
    }
   ],
   "source": [
    "x+y"
   ]
  },
  {
   "cell_type": "code",
   "execution_count": 65,
   "id": "8b54cc6f",
   "metadata": {},
   "outputs": [],
   "source": [
    "a ='Hello,'"
   ]
  },
  {
   "cell_type": "code",
   "execution_count": 62,
   "id": "58c3bdb4",
   "metadata": {},
   "outputs": [],
   "source": [
    "b = 'Marley'"
   ]
  },
  {
   "cell_type": "code",
   "execution_count": 66,
   "id": "dcdfa119",
   "metadata": {},
   "outputs": [
    {
     "data": {
      "text/plain": [
       "'Hello,Marley'"
      ]
     },
     "execution_count": 66,
     "metadata": {},
     "output_type": "execute_result"
    }
   ],
   "source": [
    "a+b"
   ]
  },
  {
   "cell_type": "code",
   "execution_count": 68,
   "id": "2e163f6b",
   "metadata": {},
   "outputs": [
    {
     "data": {
      "text/plain": [
       "bool"
      ]
     },
     "execution_count": 68,
     "metadata": {},
     "output_type": "execute_result"
    }
   ],
   "source": [
    "type (x==y)"
   ]
  },
  {
   "cell_type": "code",
   "execution_count": 69,
   "id": "cb019b7e",
   "metadata": {},
   "outputs": [],
   "source": [
    "#task 4.2 working with python data types \n",
    "x=200"
   ]
  },
  {
   "cell_type": "code",
   "execution_count": 70,
   "id": "ce79713f",
   "metadata": {},
   "outputs": [],
   "source": [
    "y=100"
   ]
  },
  {
   "cell_type": "code",
   "execution_count": 72,
   "id": "baef29b2",
   "metadata": {},
   "outputs": [
    {
     "data": {
      "text/plain": [
       "100"
      ]
     },
     "execution_count": 72,
     "metadata": {},
     "output_type": "execute_result"
    }
   ],
   "source": [
    "x-y"
   ]
  },
  {
   "cell_type": "code",
   "execution_count": 73,
   "id": "863f4290",
   "metadata": {},
   "outputs": [],
   "source": [
    "a=20.10"
   ]
  },
  {
   "cell_type": "code",
   "execution_count": 74,
   "id": "5ef5516d",
   "metadata": {},
   "outputs": [],
   "source": [
    "b= 5.2"
   ]
  },
  {
   "cell_type": "code",
   "execution_count": 75,
   "id": "1b2faff9",
   "metadata": {},
   "outputs": [
    {
     "data": {
      "text/plain": [
       "0.25365853658536586"
      ]
     },
     "execution_count": 75,
     "metadata": {},
     "output_type": "execute_result"
    }
   ],
   "source": [
    "b/a"
   ]
  },
  {
   "cell_type": "code",
   "execution_count": 76,
   "id": "c537ac4a",
   "metadata": {},
   "outputs": [],
   "source": [
    "c='hello,'"
   ]
  },
  {
   "cell_type": "code",
   "execution_count": 94,
   "id": "489e4ec2",
   "metadata": {},
   "outputs": [],
   "source": [
    "d='Frank'"
   ]
  },
  {
   "cell_type": "code",
   "execution_count": 95,
   "id": "cf6ec81c",
   "metadata": {},
   "outputs": [],
   "source": [
    "e=',you are welcome to python'"
   ]
  },
  {
   "cell_type": "code",
   "execution_count": 96,
   "id": "a357adfe",
   "metadata": {},
   "outputs": [
    {
     "data": {
      "text/plain": [
       "'hello,Frank,you are welcome to python'"
      ]
     },
     "execution_count": 96,
     "metadata": {},
     "output_type": "execute_result"
    }
   ],
   "source": [
    "c+d+e"
   ]
  },
  {
   "cell_type": "code",
   "execution_count": 92,
   "id": "2e501b65",
   "metadata": {},
   "outputs": [],
   "source": [
    "a='the best way to predict the future'"
   ]
  },
  {
   "cell_type": "code",
   "execution_count": 90,
   "id": "2d8e1d65",
   "metadata": {},
   "outputs": [],
   "source": [
    "b=',is to create it'"
   ]
  },
  {
   "cell_type": "code",
   "execution_count": 93,
   "id": "32d705e7",
   "metadata": {},
   "outputs": [
    {
     "data": {
      "text/plain": [
       "'the best way to predict the future,is to create it'"
      ]
     },
     "execution_count": 93,
     "metadata": {},
     "output_type": "execute_result"
    }
   ],
   "source": [
    "a+b"
   ]
  },
  {
   "cell_type": "code",
   "execution_count": null,
   "id": "9d6f3ef4",
   "metadata": {},
   "outputs": [],
   "source": []
  },
  {
   "cell_type": "code",
   "execution_count": null,
   "id": "653dbb3d",
   "metadata": {},
   "outputs": [],
   "source": []
  },
  {
   "cell_type": "code",
   "execution_count": null,
   "id": "0e400a4a",
   "metadata": {},
   "outputs": [],
   "source": []
  }
 ],
 "metadata": {
  "kernelspec": {
   "display_name": "Python 3 (ipykernel)",
   "language": "python",
   "name": "python3"
  },
  "language_info": {
   "codemirror_mode": {
    "name": "ipython",
    "version": 3
   },
   "file_extension": ".py",
   "mimetype": "text/x-python",
   "name": "python",
   "nbconvert_exporter": "python",
   "pygments_lexer": "ipython3",
   "version": "3.11.3"
  }
 },
 "nbformat": 4,
 "nbformat_minor": 5
}
